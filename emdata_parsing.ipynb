{
 "cells": [
  {
   "cell_type": "code",
   "execution_count": 60,
   "metadata": {},
   "outputs": [
    {
     "name": "stdout",
     "output_type": "stream",
     "text": [
      "Requirement already satisfied: mysql-connector in /usr/local/lib/python3.6/site-packages\n",
      "Requirement already satisfied: sqlalchemy in /usr/local/lib/python3.6/site-packages\n",
      "Collecting fbprophet\n",
      "  Using cached https://files.pythonhosted.org/packages/20/a1/b71d86cc8176892d9cc3de9aad4c118a9d61f99eeee8ab82e9d10e19a82b/fbprophet-0.2.1.tar.gz\n",
      "Requirement already satisfied: matplotlib in /usr/local/lib/python3.6/site-packages (from fbprophet)\n",
      "Requirement already satisfied: pandas>=0.18.1 in /usr/local/lib/python3.6/site-packages (from fbprophet)\n",
      "Collecting pystan>=2.14 (from fbprophet)\n",
      "  Using cached https://files.pythonhosted.org/packages/b3/3c/dce0eae3f03bae8fc9af88e2dc12526081b53e4889a387f550d4daefe8db/pystan-2.17.1.0-cp36-cp36m-macosx_10_6_intel.macosx_10_9_intel.macosx_10_9_x86_64.macosx_10_10_intel.macosx_10_10_x86_64.whl\n",
      "Requirement already satisfied: pyparsing!=2.0.4,!=2.1.2,!=2.1.6,>=2.0.1 in /usr/local/lib/python3.6/site-packages (from matplotlib->fbprophet)\n",
      "Requirement already satisfied: six>=1.10 in /usr/local/lib/python3.6/site-packages (from matplotlib->fbprophet)\n",
      "Requirement already satisfied: numpy>=1.7.1 in /usr/local/lib/python3.6/site-packages (from matplotlib->fbprophet)\n",
      "Requirement already satisfied: cycler>=0.10 in /usr/local/lib/python3.6/site-packages (from matplotlib->fbprophet)\n",
      "Requirement already satisfied: pytz in /usr/local/lib/python3.6/site-packages (from matplotlib->fbprophet)\n",
      "Requirement already satisfied: python-dateutil>=2.0 in /usr/local/lib/python3.6/site-packages (from matplotlib->fbprophet)\n",
      "Requirement already satisfied: Cython!=0.25.1,>=0.22 in /usr/local/lib/python3.6/site-packages (from pystan>=2.14->fbprophet)\n",
      "Building wheels for collected packages: fbprophet\n",
      "  Running setup.py bdist_wheel for fbprophet ... \u001b[?25lerror\n",
      "  Complete output from command /usr/local/Cellar/python/3.6.3/bin/python3.6 -u -c \"import setuptools, tokenize;__file__='/private/var/folders/ss/cg95h1zs60xgpbt4npp2hknw0000gn/T/pip-build-87ql3jtp/fbprophet/setup.py';f=getattr(tokenize, 'open', open)(__file__);code=f.read().replace('\\r\\n', '\\n');f.close();exec(compile(code, __file__, 'exec'))\" bdist_wheel -d /var/folders/ss/cg95h1zs60xgpbt4npp2hknw0000gn/T/tmpub0e695qpip-wheel- --python-tag cp36:\n",
      "  running bdist_wheel\n",
      "  running build\n",
      "  running build_py\n",
      "  creating build\n",
      "  creating build/lib\n",
      "  creating build/lib/fbprophet\n",
      "  creating build/lib/fbprophet/stan_models\n",
      "  INFO:pystan:COMPILING THE C++ CODE FOR MODEL anon_model_1fdd477dd8bcc50395c4e25c8741f1c1 NOW.\n",
      "  error: command 'clang' failed with exit status 1\n",
      "  \n",
      "  ----------------------------------------\n",
      "\u001b[31m  Failed building wheel for fbprophet\u001b[0m\n",
      "\u001b[?25h  Running setup.py clean for fbprophet\n",
      "Failed to build fbprophet\n",
      "Installing collected packages: pystan, fbprophet\n",
      "  Running setup.py install for fbprophet ... \u001b[?25ldone\n",
      "\u001b[?25hSuccessfully installed fbprophet-0.2.1 pystan-2.17.1.0\n",
      "\u001b[33mYou are using pip version 9.0.1, however version 10.0.1 is available.\n",
      "You should consider upgrading via the 'pip install --upgrade pip' command.\u001b[0m\n"
     ]
    }
   ],
   "source": [
    "import sys\n",
    "!{sys.executable} -m pip install mysql-connector sqlalchemy\n",
    "import pandas as pd\n",
    "import mysql.connector\n",
    "from sqlalchemy import create_engine\n",
    "from config import *\n",
    "from IPython.display import display\n",
    "import numpy as np\n",
    "import matplotlib.pyplot as plt"
   ]
  },
  {
   "cell_type": "code",
   "execution_count": null,
   "metadata": {},
   "outputs": [],
   "source": []
  },
  {
   "cell_type": "code",
   "execution_count": 9,
   "metadata": {},
   "outputs": [],
   "source": [
    "def split_dates(frame):\n",
    "    dates = frame.DisDate\n",
    "    split_dates = dates.apply(lambda x: x.split('/'))\n",
    "    years_only = split_dates.apply(lambda x: not x[0] and not x[1])\n",
    "    months_only = split_dates.apply(lambda x: not x[0] and not not x[1])\n",
    "    full_dates = split_dates.apply(lambda x: all(x))\n",
    "    #Accurate to years only, months only and days only respectively\n",
    "    return frame[years_only], frame[months_only], frame[full_dates]"
   ]
  },
  {
   "cell_type": "code",
   "execution_count": 10,
   "metadata": {},
   "outputs": [],
   "source": [
    "def is_date(row,year=None,month=None,day=None):\n",
    "    retVal = True\n",
    "    if year:\n",
    "        retVal = retVal and row['DisDate'].split('/')[2] == str(year)\n",
    "    if month:\n",
    "        retVal = retVal and row['DisDate'].split('/')[1] == str(month).zfill(2)#Zero-Padding\n",
    "    if day:\n",
    "        retVal = retVal and row['DisDate'].split('/')[0] == str(day).zfill(2)#Zero-Padding\n",
    "    return retVal"
   ]
  },
  {
   "cell_type": "code",
   "execution_count": 4,
   "metadata": {},
   "outputs": [
    {
     "ename": "NameError",
     "evalue": "name 'disaster_frame' is not defined",
     "output_type": "error",
     "traceback": [
      "\u001b[0;31m---------------------------------------------------------------------------\u001b[0m",
      "\u001b[0;31mNameError\u001b[0m                                 Traceback (most recent call last)",
      "\u001b[0;32m<ipython-input-4-15aa9692a6e5>\u001b[0m in \u001b[0;36m<module>\u001b[0;34m()\u001b[0m\n\u001b[0;32m----> 1\u001b[0;31m \u001b[0myears\u001b[0m\u001b[0;34m,\u001b[0m \u001b[0mmonths\u001b[0m\u001b[0;34m,\u001b[0m \u001b[0mdays\u001b[0m \u001b[0;34m=\u001b[0m \u001b[0msplit_dates\u001b[0m\u001b[0;34m(\u001b[0m\u001b[0mdisaster_frame\u001b[0m\u001b[0;34m)\u001b[0m\u001b[0;34m\u001b[0m\u001b[0m\n\u001b[0m",
      "\u001b[0;31mNameError\u001b[0m: name 'disaster_frame' is not defined"
     ]
    }
   ],
   "source": [
    "# years, months, days = split_dates(disaster_frame)"
   ]
  },
  {
   "cell_type": "markdown",
   "metadata": {},
   "source": [
    "# Prunes the columns from the comtrade API"
   ]
  },
  {
   "cell_type": "code",
   "execution_count": 11,
   "metadata": {},
   "outputs": [],
   "source": [
    "def prune_columns(frame):\n",
    "  important_columns = ['yr','rgCode', 'rtCode','rtTitle', 'ptCode', 'ptTitle', 'TradeQuantity', 'cmdCode', 'TradeValue']\n",
    "  frame = frame[important_columns]\n",
    "  frame['cmdCode'] = pd.to_numeric(frame['cmdCode'], errors='coerce', downcast='integer')\n",
    "  frame.loc[frame['cmdCode'].isna(),'cmdCode'] = -1\n",
    "  frame.cmdCode = frame.cmdCode.astype(int)\n",
    "  return frame"
   ]
  },
  {
   "cell_type": "code",
   "execution_count": 12,
   "metadata": {},
   "outputs": [],
   "source": [
    "def eng_connector(user=None,password=None,host=None,port=None,database=None):\n",
    "    engine = create_engine('mysql+mysqlconnector://{user}:{password}@{host}:{port}/{database}'.format(user=username,password=password,host=hostname,port=port,database=database), echo=False)\n",
    "    cnx = engine.connect()\n",
    "    return engine, cnx"
   ]
  },
  {
   "cell_type": "code",
   "execution_count": 13,
   "metadata": {},
   "outputs": [],
   "source": [
    "def get_trade_data(connector, query=\"select * from trades\"):\n",
    "    all_data = pd.read_sql(query,connector)\n",
    "    #Converts the cmdCode series to the integer datatype\n",
    "    all_data.cmdCode = pd.to_numeric(all_data.cmdCode,downcast='integer',errors='coerce')\n",
    "    #Assert all of the cmdCodes are not null after attempting to cast them\n",
    "    assert(all(all_data.cmdCode.notnull()))\n",
    "    return all_data"
   ]
  },
  {
   "cell_type": "code",
   "execution_count": 49,
   "metadata": {},
   "outputs": [],
   "source": [
    "def upload_db(frame,table,con,if_exists='append'):\n",
    "  frame.to_sql(name=table, con=con, if_exists=if_exists, index=False) #if_exists 'append' or 'replace'"
   ]
  },
  {
   "cell_type": "code",
   "execution_count": 15,
   "metadata": {},
   "outputs": [],
   "source": [
    "def getTrend(frame, country, commodity):\n",
    "    return frame.loc[(frame['rt3ISO']==country)&(frame['cmdCode']==commodity)&(frame['ptCode']==0)&(frame['rgCode']==2),['yr','rt3ISO','cmdCode','TradeQuantity']]"
   ]
  },
  {
   "cell_type": "code",
   "execution_count": 16,
   "metadata": {},
   "outputs": [],
   "source": [
    "def get_trend_table(iso,commodity):\n",
    "    engine, con = eng_connector(user=username,password=password,host=hostname,port=port,database=database)\n",
    "    trades = get_trade_data(con)\n",
    "    country_isos = list(trades.rt3ISO.unique())\n",
    "    commodities = list(trades.cmdCode.unique())\n",
    "    assert iso in country_isos,\"This iso isn't within the list of isos\"\n",
    "    assert commodity in commodities,\"This commodity isn't within the list of commodities\"\n",
    "    return getTrend(trades,iso,commodity)"
   ]
  },
  {
   "cell_type": "code",
   "execution_count": 55,
   "metadata": {},
   "outputs": [
    {
     "data": {
      "text/plain": [
       "366     1996\n",
       "419     1997\n",
       "502     1998\n",
       "601     1999\n",
       "710     2000\n",
       "1596    2002\n",
       "1940    2003\n",
       "2347    2004\n",
       "2796    2005\n",
       "3084    2007\n",
       "3421    2008\n",
       "3841    2009\n",
       "4316    2010\n",
       "4605    2012\n",
       "5005    2013\n",
       "5458    2014\n",
       "5940    2015\n",
       "6123    2016\n",
       "Name: yr, dtype: int64"
      ]
     },
     "execution_count": 55,
     "metadata": {},
     "output_type": "execute_result"
    }
   ],
   "source": [
    "french_sugar = get_trend_table('FRA',1701)\n",
    "french_sugar_quant = french_sugar.TradeQuantity\n",
    "french_sugar_year = french_sugar.yr\n",
    "french_sugar_year"
   ]
  },
  {
   "cell_type": "code",
   "execution_count": 53,
   "metadata": {},
   "outputs": [],
   "source": [
    "coefficients, residuals, _, _, _ = np.polyfit(range(len(french_sugar)),french_sugar,1,full=True)\n",
    "mse = residuals[0]/(len(french_sugar))\n",
    "nrmse = np.sqrt(mse)/(french_sugar.max() - french_sugar.min())"
   ]
  },
  {
   "cell_type": "code",
   "execution_count": 54,
   "metadata": {},
   "outputs": [
    {
     "name": "stdout",
     "output_type": "stream",
     "text": [
      "Slope -53153843.7915\n",
      "NRMSE: 0.183028662392\n",
      "Coeff1:  2835113653.67\n"
     ]
    },
    {
     "data": {
      "text/plain": [
       "range(0, 18)"
      ]
     },
     "execution_count": 54,
     "metadata": {},
     "output_type": "execute_result"
    }
   ],
   "source": [
    "print('Slope ' + str(coefficients[0]))\n",
    "print('NRMSE: ' + str(nrmse))\n",
    "print(\"Coeff1: \",coefficients[1])\n",
    "range(len(french_sugar))"
   ]
  },
  {
   "cell_type": "code",
   "execution_count": 58,
   "metadata": {},
   "outputs": [
    {
     "data": {
      "image/png": "[encoded data removed]",
      "text/plain": [
       "<matplotlib.figure.Figure at 0x1111109b0>"
      ]
     },
     "metadata": {},
     "output_type": "display_data"
    }
   ],
   "source": [
    "plt.plot(french_sugar_year,french_sugar_quant/1e9)\n",
    "plt.show()"
   ]
  },
  {
   "cell_type": "code",
   "execution_count": 61,
   "metadata": {},
   "outputs": [],
   "source": [
    "import fbprophet"
   ]
  },
  {
   "cell_type": "code",
   "execution_count": null,
   "metadata": {},
   "outputs": [],
   "source": []
  }
 ],
 "metadata": {
  "kernelspec": {
   "display_name": "Python 3",
   "language": "python",
   "name": "python3"
  },
  "language_info": {
   "codemirror_mode": {
    "name": "ipython",
    "version": 3
   },
   "file_extension": ".py",
   "mimetype": "text/x-python",
   "name": "python",
   "nbconvert_exporter": "python",
   "pygments_lexer": "ipython3",
   "version": "3.6.3"
  }
 },
 "nbformat": 4,
 "nbformat_minor": 2
}
