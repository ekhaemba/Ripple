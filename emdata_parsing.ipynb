{
 "cells": [
  {
   "cell_type": "code",
   "execution_count": 1,
   "metadata": {},
   "outputs": [
    {
     "name": "stdout",
     "output_type": "stream",
     "text": [
      "Requirement already satisfied: mysql-connector in /usr/local/lib/python3.6/site-packages\n",
      "Requirement already satisfied: sqlalchemy in /usr/local/lib/python3.6/site-packages\n",
      "\u001b[33mYou are using pip version 9.0.1, however version 10.0.1 is available.\n",
      "You should consider upgrading via the 'pip install --upgrade pip' command.\u001b[0m\n"
     ]
    }
   ],
   "source": [
    "import sys\n",
    "!{sys.executable} -m pip install mysql-connector sqlalchemy\n",
    "import pandas as pd\n",
    "import mysql.connector\n",
    "from sqlalchemy import create_engine\n",
    "from config import *"
   ]
  },
  {
   "cell_type": "code",
   "execution_count": 2,
   "metadata": {},
   "outputs": [
    {
     "data": {
      "text/html": [
       "<div>\n",
       "<style scoped>\n",
       "    .dataframe tbody tr th:only-of-type {\n",
       "        vertical-align: middle;\n",
       "    }\n",
       "\n",
       "    .dataframe tbody tr th {\n",
       "        vertical-align: top;\n",
       "    }\n",
       "\n",
       "    .dataframe thead th {\n",
       "        text-align: right;\n",
       "    }\n",
       "</style>\n",
       "<table border=\"1\" class=\"dataframe\">\n",
       "  <thead>\n",
       "    <tr style=\"text-align: right;\">\n",
       "      <th></th>\n",
       "      <th>DisDate</th>\n",
       "      <th>Iso</th>\n",
       "      <th>DisType</th>\n",
       "      <th>Deaths</th>\n",
       "      <th>DollarDamage</th>\n",
       "    </tr>\n",
       "  </thead>\n",
       "  <tbody>\n",
       "    <tr>\n",
       "      <th>0</th>\n",
       "      <td>10/06/1954</td>\n",
       "      <td>AFG</td>\n",
       "      <td>Earthquake</td>\n",
       "      <td>2000</td>\n",
       "      <td>0</td>\n",
       "    </tr>\n",
       "    <tr>\n",
       "      <th>1</th>\n",
       "      <td>/07/1956</td>\n",
       "      <td>AFG</td>\n",
       "      <td>Flood</td>\n",
       "      <td>51</td>\n",
       "      <td>0</td>\n",
       "    </tr>\n",
       "    <tr>\n",
       "      <th>2</th>\n",
       "      <td>//1969</td>\n",
       "      <td>AFG</td>\n",
       "      <td>Drought</td>\n",
       "      <td>0</td>\n",
       "      <td>200</td>\n",
       "    </tr>\n",
       "    <tr>\n",
       "      <th>3</th>\n",
       "      <td>//1973</td>\n",
       "      <td>AFG</td>\n",
       "      <td>Drought</td>\n",
       "      <td>0</td>\n",
       "      <td>0</td>\n",
       "    </tr>\n",
       "    <tr>\n",
       "      <th>4</th>\n",
       "      <td>19/03/1976</td>\n",
       "      <td>AFG</td>\n",
       "      <td>Earthquake</td>\n",
       "      <td>50</td>\n",
       "      <td>0</td>\n",
       "    </tr>\n",
       "  </tbody>\n",
       "</table>\n",
       "</div>"
      ],
      "text/plain": [
       "      DisDate  Iso     DisType  Deaths  DollarDamage\n",
       "0  10/06/1954  AFG  Earthquake    2000             0\n",
       "1    /07/1956  AFG       Flood      51             0\n",
       "2      //1969  AFG     Drought       0           200\n",
       "3      //1973  AFG     Drought       0             0\n",
       "4  19/03/1976  AFG  Earthquake      50             0"
      ]
     },
     "execution_count": 2,
     "metadata": {},
     "output_type": "execute_result"
    }
   ],
   "source": [
    "disaster_frame = pd.read_csv('emdata.csv',names=['DisDate','Iso','DisType','Deaths','DollarDamage'])\n",
    "disaster_frame.head()"
   ]
  },
  {
   "cell_type": "code",
   "execution_count": 3,
   "metadata": {},
   "outputs": [],
   "source": [
    "def split_dates(frame):\n",
    "    dates = frame.DisDate\n",
    "    split_dates = dates.apply(lambda x: x.split('/'))\n",
    "    years_only = split_dates.apply(lambda x: not x[0] and not x[1])\n",
    "    months_only = split_dates.apply(lambda x: not x[0] and not not x[1])\n",
    "    full_dates = split_dates.apply(lambda x: all(x))\n",
    "    #Accurate to years only, months only and days only respectively\n",
    "    return frame[years_only], frame[months_only], frame[full_dates]"
   ]
  },
  {
   "cell_type": "code",
   "execution_count": 10,
   "metadata": {},
   "outputs": [],
   "source": [
    "years, months, days = split_dates(disaster_frame)"
   ]
  },
  {
   "cell_type": "code",
   "execution_count": 11,
   "metadata": {},
   "outputs": [],
   "source": [
    "def is_date(row,year=None,month=None,day=None):\n",
    "    retVal = True\n",
    "    if year:\n",
    "        retVal = retVal and row['DisDate'].split('/')[2] == str(year)\n",
    "    if month:\n",
    "        retVal = retVal and row['DisDate'].split('/')[1] == str(month).zfill(2)#Zero-Padding\n",
    "    if day:\n",
    "        retVal = retVal and row['DisDate'].split('/')[0] == str(day).zfill(2)#Zero-Padding\n",
    "    return retVal"
   ]
  },
  {
   "cell_type": "code",
   "execution_count": 24,
   "metadata": {},
   "outputs": [
    {
     "ename": "TypeError",
     "evalue": "Required argument 'day' (pos 3) not found",
     "output_type": "error",
     "traceback": [
      "\u001b[0;31m---------------------------------------------------------------------------\u001b[0m",
      "\u001b[0;31mTypeError\u001b[0m                                 Traceback (most recent call last)",
      "\u001b[0;32m<ipython-input-24-201fc0e1b68c>\u001b[0m in \u001b[0;36m<module>\u001b[0;34m()\u001b[0m\n\u001b[1;32m      1\u001b[0m \u001b[0;32mimport\u001b[0m \u001b[0mdatetime\u001b[0m\u001b[0;34m\u001b[0m\u001b[0m\n\u001b[0;32m----> 2\u001b[0;31m \u001b[0mdatetime\u001b[0m\u001b[0;34m.\u001b[0m\u001b[0mdate\u001b[0m\u001b[0;34m(\u001b[0m\u001b[0myear\u001b[0m\u001b[0;34m=\u001b[0m\u001b[0;36m1996\u001b[0m\u001b[0;34m,\u001b[0m\u001b[0mmonth\u001b[0m\u001b[0;34m=\u001b[0m\u001b[0;36m2\u001b[0m\u001b[0;34m)\u001b[0m\u001b[0;34m\u001b[0m\u001b[0m\n\u001b[0m",
      "\u001b[0;31mTypeError\u001b[0m: Required argument 'day' (pos 3) not found"
     ]
    }
   ],
   "source": []
  },
  {
   "cell_type": "markdown",
   "metadata": {},
   "source": [
    "# Prunes the columns from the comtrade API"
   ]
  },
  {
   "cell_type": "code",
   "execution_count": 12,
   "metadata": {},
   "outputs": [],
   "source": [
    "def prune_columns(frame):\n",
    "  important_columns = ['yr','rgCode', 'rtCode','rtTitle', 'ptCode', 'ptTitle', 'TradeQuantity', 'cmdCode', 'TradeValue']\n",
    "  frame = frame[important_columns]\n",
    "  frame['cmdCode'] = pd.to_numeric(frame['cmdCode'], errors='coerce', downcast='integer')\n",
    "  frame.loc[frame['cmdCode'].isna(),'cmdCode'] = -1\n",
    "  frame.cmdCode = frame.cmdCode.astype(int)\n",
    "  return frame"
   ]
  },
  {
   "cell_type": "code",
   "execution_count": 13,
   "metadata": {},
   "outputs": [],
   "source": [
    "def eng_connector(user=None,password=None,host=None,port=None,database=None):\n",
    "    engine = create_engine('mysql+mysqlconnector://{user}:{password}@{host}:{port}/{database}'.format(user=username,password=password,host=hostname,port=port,database=database), echo=False)\n",
    "    cnx = engine.connect()\n",
    "    return engine, cnx"
   ]
  },
  {
   "cell_type": "code",
   "execution_count": null,
   "metadata": {},
   "outputs": [],
   "source": [
    "def get_trade_data(connector, query=\"select * from cocoapuffs\"):\n",
    "    all_data = pd.read_sql(query,connector)\n",
    "    #Converts the cmdCode series to the integer datatype\n",
    "    all_data.cmdCode = pd.to_numeric(all_data.cmdCode,downcast='integer',errors='coerce')\n",
    "    #Assert all of the cmdCodes are not null after attempting to cast them\n",
    "    assert(all(all_data.cmdCode.notnull()))\n",
    "    return all_data"
   ]
  },
  {
   "cell_type": "code",
   "execution_count": null,
   "metadata": {},
   "outputs": [],
   "source": [
    "def upload_db(frame,con,table='cocoapuffs',if_exists='append'):\n",
    "  frame.to_sql(name=table, con=con, if_exists=if_exists, index=False) #if_exists 'append' or 'replace'"
   ]
  },
  {
   "cell_type": "code",
   "execution_count": null,
   "metadata": {},
   "outputs": [],
   "source": [
    "engine, con = eng_connector(user=username,password=password,host=hostname,port=port,database=database)"
   ]
  },
  {
   "cell_type": "code",
   "execution_count": null,
   "metadata": {},
   "outputs": [],
   "source": [
    "trades = get_trade_data(con)\n",
    "trades.head()"
   ]
  },
  {
   "cell_type": "code",
   "execution_count": null,
   "metadata": {},
   "outputs": [],
   "source": []
  },
  {
   "cell_type": "code",
   "execution_count": null,
   "metadata": {},
   "outputs": [],
   "source": [
    "list(range(1996,2017))"
   ]
  },
  {
   "cell_type": "code",
   "execution_count": null,
   "metadata": {},
   "outputs": [],
   "source": []
  }
 ],
 "metadata": {
  "kernelspec": {
   "display_name": "Python 3",
   "language": "python",
   "name": "python3"
  },
  "language_info": {
   "codemirror_mode": {
    "name": "ipython",
    "version": 3
   },
   "file_extension": ".py",
   "mimetype": "text/x-python",
   "name": "python",
   "nbconvert_exporter": "python",
   "pygments_lexer": "ipython3",
   "version": "3.6.3"
  }
 },
 "nbformat": 4,
 "nbformat_minor": 2
}
