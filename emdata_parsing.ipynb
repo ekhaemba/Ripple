{
 "cells": [
  {
   "cell_type": "code",
   "execution_count": 1,
   "metadata": {},
   "outputs": [
    {
     "name": "stdout",
     "output_type": "stream",
     "text": [
      "Requirement already satisfied: mysql-connector in /usr/local/lib/python3.6/site-packages\r\n",
      "Requirement already satisfied: sqlalchemy in /usr/local/lib/python3.6/site-packages\r\n",
      "\u001b[33mYou are using pip version 9.0.1, however version 10.0.1 is available.\r\n",
      "You should consider upgrading via the 'pip install --upgrade pip' command.\u001b[0m\r\n"
     ]
    }
   ],
   "source": [
    "import sys\n",
    "!{sys.executable} -m pip install mysql-connector sqlalchemy\n",
    "import pandas as pd\n",
    "import mysql.connector\n",
    "from sqlalchemy import create_engine\n",
    "from config import *\n",
    "from IPython.display import display"
   ]
  },
  {
   "cell_type": "code",
   "execution_count": null,
   "metadata": {},
   "outputs": [],
   "source": []
  },
  {
   "cell_type": "code",
   "execution_count": 2,
   "metadata": {},
   "outputs": [],
   "source": [
    "def split_dates(frame):\n",
    "    dates = frame.DisDate\n",
    "    split_dates = dates.apply(lambda x: x.split('/'))\n",
    "    years_only = split_dates.apply(lambda x: not x[0] and not x[1])\n",
    "    months_only = split_dates.apply(lambda x: not x[0] and not not x[1])\n",
    "    full_dates = split_dates.apply(lambda x: all(x))\n",
    "    #Accurate to years only, months only and days only respectively\n",
    "    return frame[years_only], frame[months_only], frame[full_dates]"
   ]
  },
  {
   "cell_type": "code",
   "execution_count": 3,
   "metadata": {},
   "outputs": [],
   "source": [
    "def is_date(row,year=None,month=None,day=None):\n",
    "    retVal = True\n",
    "    if year:\n",
    "        retVal = retVal and row['DisDate'].split('/')[2] == str(year)\n",
    "    if month:\n",
    "        retVal = retVal and row['DisDate'].split('/')[1] == str(month).zfill(2)#Zero-Padding\n",
    "    if day:\n",
    "        retVal = retVal and row['DisDate'].split('/')[0] == str(day).zfill(2)#Zero-Padding\n",
    "    return retVal"
   ]
  },
  {
   "cell_type": "code",
   "execution_count": 4,
   "metadata": {},
   "outputs": [
    {
     "ename": "NameError",
     "evalue": "name 'disaster_frame' is not defined",
     "output_type": "error",
     "traceback": [
      "\u001b[0;31m---------------------------------------------------------------------------\u001b[0m",
      "\u001b[0;31mNameError\u001b[0m                                 Traceback (most recent call last)",
      "\u001b[0;32m<ipython-input-4-15aa9692a6e5>\u001b[0m in \u001b[0;36m<module>\u001b[0;34m()\u001b[0m\n\u001b[0;32m----> 1\u001b[0;31m \u001b[0myears\u001b[0m\u001b[0;34m,\u001b[0m \u001b[0mmonths\u001b[0m\u001b[0;34m,\u001b[0m \u001b[0mdays\u001b[0m \u001b[0;34m=\u001b[0m \u001b[0msplit_dates\u001b[0m\u001b[0;34m(\u001b[0m\u001b[0mdisaster_frame\u001b[0m\u001b[0;34m)\u001b[0m\u001b[0;34m\u001b[0m\u001b[0m\n\u001b[0m",
      "\u001b[0;31mNameError\u001b[0m: name 'disaster_frame' is not defined"
     ]
    }
   ],
   "source": [
    "years, months, days = split_dates(disaster_frame)"
   ]
  },
  {
   "cell_type": "markdown",
   "metadata": {},
   "source": [
    "# Prunes the columns from the comtrade API"
   ]
  },
  {
   "cell_type": "code",
   "execution_count": null,
   "metadata": {},
   "outputs": [],
   "source": [
    "def prune_columns(frame):\n",
    "  important_columns = ['yr','rgCode', 'rtCode','rtTitle', 'ptCode', 'ptTitle', 'TradeQuantity', 'cmdCode', 'TradeValue']\n",
    "  frame = frame[important_columns]\n",
    "  frame['cmdCode'] = pd.to_numeric(frame['cmdCode'], errors='coerce', downcast='integer')\n",
    "  frame.loc[frame['cmdCode'].isna(),'cmdCode'] = -1\n",
    "  frame.cmdCode = frame.cmdCode.astype(int)\n",
    "  return frame"
   ]
  },
  {
   "cell_type": "code",
   "execution_count": null,
   "metadata": {},
   "outputs": [],
   "source": [
    "def eng_connector(user=None,password=None,host=None,port=None,database=None):\n",
    "    engine = create_engine('mysql+mysqlconnector://{user}:{password}@{host}:{port}/{database}'.format(user=username,password=password,host=hostname,port=port,database=database), echo=False)\n",
    "    cnx = engine.connect()\n",
    "    return engine, cnx"
   ]
  },
  {
   "cell_type": "code",
   "execution_count": null,
   "metadata": {},
   "outputs": [],
   "source": [
    "def get_trade_data(connector, query=\"select * from trades\"):\n",
    "    all_data = pd.read_sql(query,connector)\n",
    "    #Converts the cmdCode series to the integer datatype\n",
    "    all_data.cmdCode = pd.to_numeric(all_data.cmdCode,downcast='integer',errors='coerce')\n",
    "    #Assert all of the cmdCodes are not null after attempting to cast them\n",
    "    assert(all(all_data.cmdCode.notnull()))\n",
    "    return all_data"
   ]
  },
  {
   "cell_type": "code",
   "execution_count": null,
   "metadata": {},
   "outputs": [],
   "source": [
    "def upload_db(frame,con,table='trades',if_exists='append'):\n",
    "  frame.to_sql(name=table, con=con, if_exists=if_exists, index=False) #if_exists 'append' or 'replace'"
   ]
  },
  {
   "cell_type": "code",
   "execution_count": null,
   "metadata": {},
   "outputs": [],
   "source": [
    "def getTrend(frame, country, commodity):\n",
    "    return frame.loc[(frame['rt3ISO']==country)&(frame['cmdCode']==commodity)&(frame['ptCode']==0)&(frame['rgCode']==2),['yr','rt3ISO','cmdCode','TradeQuantity']]"
   ]
  },
  {
   "cell_type": "code",
   "execution_count": null,
   "metadata": {},
   "outputs": [],
   "source": [
    "def get_trend_table(iso,commodity):\n",
    "    engine, con = eng_connector(user=username,password=password,host=hostname,port=port,database=database)\n",
    "    trades = get_trade_data(con)\n",
    "    country_isos = list(trades.rt3ISO.unique())\n",
    "    commodities = list(trades.cmdCode.unique())\n",
    "    assert iso in country_isos,\"This iso isn't within the list of isos\"\n",
    "    assert commodity in commodities,\"This commodity isn't within the list of commodities\"\n",
    "    return getTrend(trades,iso,commodity)"
   ]
  },
  {
   "cell_type": "code",
   "execution_count": null,
   "metadata": {},
   "outputs": [],
   "source": []
  },
  {
   "cell_type": "code",
   "execution_count": null,
   "metadata": {},
   "outputs": [],
   "source": []
  },
  {
   "cell_type": "code",
   "execution_count": null,
   "metadata": {},
   "outputs": [],
   "source": []
  }
 ],
 "metadata": {
  "kernelspec": {
   "display_name": "Python 3",
   "language": "python",
   "name": "python3"
  },
  "language_info": {
   "codemirror_mode": {
    "name": "ipython",
    "version": 3
   },
   "file_extension": ".py",
   "mimetype": "text/x-python",
   "name": "python",
   "nbconvert_exporter": "python",
   "pygments_lexer": "ipython3",
   "version": "3.6.3"
  }
 },
 "nbformat": 4,
 "nbformat_minor": 2
}
