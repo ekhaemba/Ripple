{
 "cells": [
  {
   "cell_type": "code",
   "execution_count": 362,
   "metadata": {},
   "outputs": [],
   "source": [
    "import pandas as pd\n",
    "import numpy as np"
   ]
  },
  {
   "cell_type": "code",
   "execution_count": 363,
   "metadata": {},
   "outputs": [],
   "source": [
    "countriesSoFar = ['FRA','DEU','BEL','NGA','NLD','CIV','POL']"
   ]
  },
  {
   "cell_type": "code",
   "execution_count": 364,
   "metadata": {},
   "outputs": [],
   "source": [
    "def printList(pList):\n",
    "    \"\"\"Tired of having to type this\"\"\"\n",
    "    for l in pList:\n",
    "        print(l)"
   ]
  },
  {
   "cell_type": "code",
   "execution_count": 365,
   "metadata": {},
   "outputs": [],
   "source": [
    "def printListList(pList):\n",
    "    \"\"\"Tired of having to type this\"\"\"\n",
    "    for l in pList:\n",
    "        for ll in l:\n",
    "            print(ll)"
   ]
  },
  {
   "cell_type": "code",
   "execution_count": 178,
   "metadata": {},
   "outputs": [],
   "source": [
    "def pullItEm(file):\n",
    "    dataset = pd.read_csv(file)\n",
    "    dSet = []\n",
    "    tempList = []\n",
    "    numRows = len(dataset)\n",
    "    for n in range(numRows):\n",
    "        for line in dataset.iloc[n,:5]:\n",
    "            tempList.append(line)\n",
    "        dSet.append(tempList)\n",
    "        tempList = []\n",
    "    return dSet"
   ]
  },
  {
   "cell_type": "code",
   "execution_count": 366,
   "metadata": {},
   "outputs": [],
   "source": [
    "def pullItCom(file):\n",
    "    \"\"\"pulls in the Comdata file\"\"\"\n",
    "    dataset = pd.read_csv(file)\n",
    "    dSet = []\n",
    "    tempList = []\n",
    "    numRows = len(dataset)\n",
    "    for n in range(numRows):\n",
    "        for line in dataset.iloc[n,:7]:\n",
    "            tempList.append(line)\n",
    "        dSet.append(tempList)\n",
    "        tempList = []\n",
    "    return dSet"
   ]
  },
  {
   "cell_type": "code",
   "execution_count": 173,
   "metadata": {},
   "outputs": [],
   "source": [
    "def fixYear(dSet):\n",
    "    \"\"\"Fixes the year on the emdat records\"\"\"\n",
    "    postSet = []\n",
    "    tmpEntity = []\n",
    "    for d in dSet:\n",
    "        tmpEntity.append(d[0][-4:])\n",
    "        tmpEntity.append(d[1])\n",
    "        tmpEntity.append(d[2])\n",
    "        tmpEntity.append(d[3])\n",
    "        tmpEntity.append(d[4])\n",
    "        postSet.append(tmpEntity)\n",
    "        tmpEntity = []\n",
    "    return postSet"
   ]
  },
  {
   "cell_type": "code",
   "execution_count": 420,
   "metadata": {},
   "outputs": [],
   "source": [
    "def groupByYear(dSet):\n",
    "    \"\"\"combines disasters of all type to provide single year record for each country\"\"\"\n",
    "    tmpCountry = dSet[0][1]\n",
    "    tmpDeathSum = 0\n",
    "    tmpDollarSum = 0\n",
    "    tmpYear = dSet[0][0]\n",
    "    tmpEntry =[]\n",
    "    dSetR1 =[]\n",
    "\n",
    "    for i in range(len(dSet)):\n",
    "\n",
    "        if (dSet[i][0] == tmpYear) and (dSet[i][1] == tmpCountry):\n",
    "            tmpDeathSum += dSet[i][3]\n",
    "            tmpDollarSum += dSet[i][4]\n",
    "        elif (dSet[i][0] !=tmpYear):\n",
    "            tmpEntry.append(tmpYear)\n",
    "            tmpEntry.append(tmpCountry)\n",
    "            tmpEntry.append(tmpDeathSum)\n",
    "            tmpEntry.append(tmpDollarSum)\n",
    "            dSetR1.append(tmpEntry)\n",
    "            tmpEntry = []\n",
    "            tmpCountry = dSet[i][1]\n",
    "            tmpDeathSum = dSet[i][3]\n",
    "            tmpDollarSum = dSet[i][4]\n",
    "            tmpYear = dSet[i][0]\n",
    "                \n",
    "    return(dSetR1)\n"
   ]
  },
  {
   "cell_type": "code",
   "execution_count": 138,
   "metadata": {},
   "outputs": [],
   "source": [
    "def calcImpactScore(dSet):\n",
    "    tmpEntry =[]\n",
    "    tmpCountry = \"\"\n",
    "    tmpYear = 0\n",
    "    tmpDeath = 0\n",
    "    AdjDollar = 0\n",
    "    calcImpact = 0\n",
    "    dSetR2 = []\n",
    "    for d in dSet:\n",
    "        tmpYear = d[0]\n",
    "        tmpCountry = d[1]\n",
    "        tmpDeath = d[2]\n",
    "        if(d[3]!=0):\n",
    "            AdjDollars = (np.log10(d[3]))/10\n",
    "        else:\n",
    "            AdjDollars = d[3]\n",
    "        calcImpact = AdjDollars +tmpDeath\n",
    "        tmpEntry.append(tmpYear)\n",
    "        tmpEntry.append(tmpCountry)\n",
    "        tmpEntry.append(tmpDeath)\n",
    "        tmpEntry.append(AdjDollars)\n",
    "        tmpEntry.append(calcImpact)\n",
    "        dSetR2.append(tmpEntry)\n",
    "        tmpEntry = []\n",
    "    return dSetR2"
   ]
  },
  {
   "cell_type": "code",
   "execution_count": 139,
   "metadata": {},
   "outputs": [],
   "source": [
    "def getComList(country,commodity):\n",
    "    \"\"\"Enter parameter in format 'ISO' \"\"\"\n",
    "    country = 'datasets/'+country+'-'+commodity+'.csv'\n",
    "    return pullItCom(country)"
   ]
  },
  {
   "cell_type": "code",
   "execution_count": 141,
   "metadata": {},
   "outputs": [],
   "source": [
    "def removeFirstComEntry(comList):\n",
    "    \"\"\"gets rid of countries whose adjusted trends are missing from comTrade\"\"\"\n",
    "    editedList = []\n",
    "    tmpEntry = []\n",
    "    \n",
    "    for c in comList:\n",
    "        for l in c:\n",
    "            if (str(l[4])==str(l[5]) and str(l[5])=='nan'):\n",
    "                #print(\"edit out\")\n",
    "                pass\n",
    "            else:\n",
    "                tmpEntry.append(l)\n",
    "        editedList.append(tmpEntry)\n",
    "        tmpEntry = []\n",
    "        \n",
    "    return editedList"
   ]
  },
  {
   "cell_type": "code",
   "execution_count": 206,
   "metadata": {},
   "outputs": [],
   "source": [
    "def getComLists(countries,commodity):\n",
    "    \"\"\"be sure to use parameter in format ['ISO1','ISO2,...,'ISOn']\"\"\"\n",
    "    l = len(countries)\n",
    "    comLists = []\n",
    "    for c in range(l):\n",
    "        country = countries[c]\n",
    "        comLists.append(getComList(country,commodity))\n",
    "    return removeFirstComEntry(comLists)"
   ]
  },
  {
   "cell_type": "code",
   "execution_count": 143,
   "metadata": {},
   "outputs": [],
   "source": [
    "def getDeathRate():\n",
    "    file = open('datasets/deathrate.txt','r')\n",
    "    rawLines = []\n",
    "    tmpList = []\n",
    "    deathList = []\n",
    "    tmpEntry = []\n",
    "    tmpString = \"\"\n",
    "    for line in file:\n",
    "        rawLines.append(line.strip())\n",
    "    for l in rawLines:\n",
    "        if (l[:3] in countriesSoFar):\n",
    "            for char in range(len(l)):\n",
    "                if l[char] ==\":\":\n",
    "                    tmpEntry.append(tmpString)\n",
    "                    tmpString = \"\"\n",
    "                if l[char] == \"/\":\n",
    "                    tmpEntry.append(tmpString.lstrip(':'))          \n",
    "                    tmpString = \"\"\n",
    "                if char == len(l)-1:\n",
    "                    tmpString += l[char]\n",
    "                    tmpEntry.append(tmpString.lstrip('/'))               \n",
    "                    tmpString = \"\" \n",
    "                else:\n",
    "                    tmpString += l[char]\n",
    "            tmpList.append(tmpEntry)\n",
    "            tmpEntry = []\n",
    "\n",
    "    return tmpList"
   ]
  },
  {
   "cell_type": "code",
   "execution_count": 160,
   "metadata": {},
   "outputs": [],
   "source": [
    "def calcDeathRate():\n",
    "    numDeadList = []\n",
    "    tmpEntry = []\n",
    "    deathList = getDeathRate()\n",
    "    for d in deathList:\n",
    "        pop = int(d[1])\n",
    "        rate = float(d[2])\n",
    "        tmpEntry.append(d[0])\n",
    "        tmpEntry.append(((pop/1000)*rate)*10)\n",
    "        numDeadList.append(tmpEntry)\n",
    "        tmpEntry = []\n",
    "    return numDeadList"
   ]
  },
  {
   "cell_type": "code",
   "execution_count": 161,
   "metadata": {},
   "outputs": [],
   "source": [
    "def applyDeathRate(emDat,deathList):\n",
    "    tmpList = []\n",
    "    tmpEntry = []\n",
    "    dr = 1\n",
    "    for n in emDat:\n",
    "        for d in deathList:\n",
    "            if (d[0] == n[1]):\n",
    "                dr = d[1]\n",
    "        tmpEntry.append(n[0])\n",
    "        tmpEntry.append(n[1])\n",
    "        tmpEntry.append(n[2]/dr)\n",
    "        tmpEntry.append(n[3])\n",
    "        \n",
    "        tmpList.append(tmpEntry)\n",
    "        tmpEntry = []\n",
    "    return tmpList"
   ]
  },
  {
   "cell_type": "code",
   "execution_count": 199,
   "metadata": {},
   "outputs": [],
   "source": [
    "def processEmdat():\n",
    "    emDat = pullItEm('datasets/emdata.csv')\n",
    "    emDat = fixYear(emDat)\n",
    "    emDat = groupByYear(emDat)\n",
    "    deathRate = calcDeathRate()\n",
    "    emDat = applyDeathRate(emDat,deathRate)\n",
    "    emDat = calcImpactScore(emDat)\n",
    "    return emDat"
   ]
  },
  {
   "cell_type": "code",
   "execution_count": 258,
   "metadata": {},
   "outputs": [],
   "source": [
    "def combineComEm(comList,emDat):\n",
    "    titleString = ['YEAR','ISO','COMMODITY', 'TREND', 'ADJUSTED TREND', 'ADJUSTED DEATH', 'ADJUSTED $ LOSS', 'CIS' ]\n",
    "    tmpEntry = []\n",
    "    tmpList = []\n",
    "    tmpList.append(titleString)\n",
    "    for country in comList:\n",
    "        comName = country[0][1]\n",
    "        comComm = country[0][2]\n",
    "        comExpo = country[0][3]\n",
    "        comTrnd = country[0][4]\n",
    "        comAdTd = country[0][5]\n",
    "        for comLine in country:\n",
    "            comYear = str(comLine[0])\n",
    "            for e in emDat:\n",
    "                emYear = e[0]\n",
    "                emName = e[1]\n",
    "                emDeath = e[2]\n",
    "                emDollar = e[3]\n",
    "                emImp = e[4]\n",
    "                if (e[0] == comYear and comName == emName):\n",
    "                    #print('match')\n",
    "                    tmpEntry.append(comYear)\n",
    "                    tmpEntry.append(comName)\n",
    "                    tmpEntry.append(comComm)\n",
    "                    tmpEntry.append(comExpo)\n",
    "                    tmpEntry.append(comTrnd)\n",
    "                    tmpEntry.append(comAdTd)\n",
    "                    tmpEntry.append(emDeath)\n",
    "                    tmpEntry.append(emDollar)\n",
    "                    tmpEntry.append(emImp)\n",
    "                    tmpList.append(tmpEntry)\n",
    "                    tmpEntry = []\n",
    "\n",
    "    return tmpList"
   ]
  },
  {
   "cell_type": "markdown",
   "metadata": {},
   "source": [
    "## Next up: \n",
    "#### 1) need to incorperate applyDeathRate and calcImpactScore.\n",
    "#### 2) integrate comList and emDat\n",
    "#### 3) generate HR file and model input file\n"
   ]
  },
  {
   "cell_type": "code",
   "execution_count": 197,
   "metadata": {},
   "outputs": [
    {
     "name": "stdout",
     "output_type": "stream",
     "text": [
      "['1990', 'DEU', 41, 1980000]\n",
      "['1992', 'DEU', 1, 50000]\n",
      "['1993', 'DEU', 5, 630000]\n",
      "['1994', 'DEU', 5, 845200]\n",
      "['1995', 'DEU', 0, 209600]\n",
      "['1997', 'DEU', 30, 0]\n",
      "['1998', 'DEU', 3, 150000]\n",
      "['1999', 'DEU', 10, 580000]\n",
      "['2002', 'DEU', 31, 11750000]\n",
      "['2003', 'DEU', 15, 300000]\n",
      "['2004', 'DEU', 2, 130000]\n",
      "['2005', 'DEU', 1, 300000]\n",
      "['2006', 'DEU', 13, 0]\n",
      "['2007', 'DEU', 7, 0]\n",
      "['2008', 'DEU', 8, 2700000]\n",
      "['2009', 'DEU', 1, 50000]\n",
      "['2010', 'DEU', 5, 1000000]\n",
      "['2011', 'DEU', 4, 0]\n",
      "['2012', 'DEU', 2, 0]\n",
      "['2013', 'DEU', 7, 4800000]\n",
      "['2014', 'DEU', 2, 400000]\n"
     ]
    }
   ],
   "source": [
    "for e in test:\n",
    "    if e[1]=='DEU':\n",
    "        print(e)"
   ]
  },
  {
   "cell_type": "code",
   "execution_count": 264,
   "metadata": {},
   "outputs": [],
   "source": [
    "def doTheDamnThing(countries,commodity):\n",
    "    comList = getComLists(countries,commodity)\n",
    "    emDat = processEmdat()\n",
    "    result = combineComEm(comList,emDat)\n",
    "    return result"
   ]
  },
  {
   "cell_type": "code",
   "execution_count": 265,
   "metadata": {},
   "outputs": [],
   "source": [
    "x = doTheDamnThing(countriesSoFar,'1701')"
   ]
  },
  {
   "cell_type": "code",
   "execution_count": 266,
   "metadata": {},
   "outputs": [
    {
     "name": "stdout",
     "output_type": "stream",
     "text": [
      "['YEAR', 'ISO', 'COMMODITY', 'TREND', 'ADJUSTED TREND', 'ADJUSTED DEATH', 'ADJUSTED $ LOSS', 'CIS']\n",
      "['1995', 'FRA', 1701, 2813245440, 1.137616145, 0.1399516857, 2.5637438975638643e-06, 0.5845098040014257, 0.5845123677453232]\n",
      "['1996', 'FRA', 1701, 2813245440, 1.137616145, 0.1399516857, 6.409359743909661e-07, 0.37781512503836434, 0.37781576597433875]\n",
      "['1997', 'FRA', 1701, 2813245440, 1.137616145, 0.1399516857, 3.685381852748055e-06, 0.4, 0.40000368538185277]\n",
      "['1998', 'FRA', 1701, 2813245440, 1.137616145, 0.1399516857, 9.61403961586449e-07, 0.5176091259055682, 0.5176100873095297]\n",
      "['1999', 'FRA', 1701, 2813245440, 1.137616145, 0.1399516857, 8.812869647875784e-06, 0.6654252608972213, 0.6654340737668691]\n",
      "['2000', 'FRA', 1701, 2813245440, 1.137616145, 0.1399516857, 4.807019807932245e-07, 0, 4.807019807932245e-07]\n",
      "['2001', 'FRA', 1701, 2813245440, 1.137616145, 0.1399516857, 1.922807923172898e-06, 0, 1.922807923172898e-06]\n",
      "['2002', 'FRA', 1701, 2813245440, 1.137616145, 0.1399516857, 6.409359743909661e-07, 0.3, 0.3000006409359744]\n",
      "['2003', 'FRA', 1701, 2813245440, 1.137616145, 0.1399516857, 1.7625739295751568e-06, 0, 1.7625739295751568e-06]\n",
      "['2004', 'FRA', 1701, 2813245440, 1.137616145, 0.1399516857, 1.7625739295751568e-06, 0, 1.7625739295751568e-06]\n",
      "['2005', 'FRA', 1701, 2813245440, 1.137616145, 0.1399516857, 1.1216379551841906e-06, 0, 1.1216379551841906e-06]\n",
      "['2006', 'FRA', 1701, 2813245440, 1.137616145, 0.1399516857, 8.011699679887076e-07, 0, 8.011699679887076e-07]\n",
      "['2007', 'FRA', 1701, 2813245440, 1.137616145, 0.1399516857, 1.6023399359774152e-07, 0, 1.6023399359774152e-07]\n",
      "['2008', 'FRA', 1701, 2813245440, 1.137616145, 0.1399516857, 8.011699679887076e-07, 0.49030899869919436, 0.49030979986916234]\n",
      "['2009', 'FRA', 1701, 2813245440, 1.137616145, 0.1399516857, 1.7625739295751568e-06, 0.6505149978319906, 0.6505167604059202]\n",
      "['2010', 'FRA', 1701, 2813245440, 1.137616145, 0.1399516857, 8.973103641473525e-06, 0.6626340367375042, 0.6626430098411457]\n",
      "['2011', 'FRA', 1701, 2813245440, 1.137616145, 0.1399516857, 9.61403961586449e-07, 0, 9.61403961586449e-07]\n",
      "['2012', 'FRA', 1701, 2813245440, 1.137616145, 0.1399516857, 1.922807923172898e-06, 0, 1.922807923172898e-06]\n",
      "['2013', 'FRA', 1701, 2813245440, 1.137616145, 0.1399516857, 1.6023399359774152e-07, 0, 1.6023399359774152e-07]\n",
      "['2014', 'FRA', 1701, 2813245440, 1.137616145, 0.1399516857, 2.0830419167706397e-06, 0.5685741738602264, 0.5685762569021431]\n",
      "['2015', 'FRA', 1701, 2813245440, 1.137616145, 0.1399516857, 4.807019807932245e-07, 0, 4.807019807932245e-07]\n",
      "['2016', 'FRA', 1701, 2813245440, 1.137616145, 0.1399516857, 8.011699679887076e-07, 0.6380211241711606, 0.6380219253411287]\n",
      "['1992', 'DEU', 1701, 1436861056, 0.8796756004, -0.1388984361, 1.0605016185020964e-07, 0.4698970004336019, 0.46989710648376376]\n",
      "['1993', 'DEU', 1701, 1436861056, 0.8796756004, -0.1388984361, 5.302508092510482e-07, 0.5799340549453582, 0.5799345851961675]\n",
      "['1994', 'DEU', 1701, 1436861056, 0.8796756004, -0.1388984361, 5.302508092510482e-07, 0.5926959488380276, 0.5926964790888368]\n",
      "['1995', 'DEU', 1701, 1436861056, 0.8796756004, -0.1388984361, 0.0, 0.5321391278311689, 0.5321391278311689]\n",
      "['1997', 'DEU', 1701, 1436861056, 0.8796756004, -0.1388984361, 3.1815048555062893e-06, 0, 3.1815048555062893e-06]\n",
      "['1998', 'DEU', 1701, 1436861056, 0.8796756004, -0.1388984361, 3.181504855506289e-07, 0.5176091259055682, 0.5176094440560537]\n",
      "['1999', 'DEU', 1701, 1436861056, 0.8796756004, -0.1388984361, 1.0605016185020963e-06, 0.5763427993562937, 0.5763438598579123]\n",
      "['2002', 'DEU', 1701, 1436861056, 0.8796756004, -0.1388984361, 3.2875550173564987e-06, 0.7070037866607756, 0.7070070742157929]\n",
      "['2003', 'DEU', 1701, 1436861056, 0.8796756004, -0.1388984361, 1.5907524277531446e-06, 0.5477121254719662, 0.547713716224394]\n",
      "['2004', 'DEU', 1701, 1436861056, 0.8796756004, -0.1388984361, 2.1210032370041928e-07, 0.5113943352306837, 0.5113945473310074]\n",
      "['2005', 'DEU', 1701, 1436861056, 0.8796756004, -0.1388984361, 1.0605016185020964e-07, 0.5477121254719662, 0.5477122315221281]\n",
      "['2006', 'DEU', 1701, 1436861056, 0.8796756004, -0.1388984361, 1.3786521040527252e-06, 0, 1.3786521040527252e-06]\n",
      "['2007', 'DEU', 1701, 1436861056, 0.8796756004, -0.1388984361, 7.423511329514675e-07, 0, 7.423511329514675e-07]\n",
      "['2008', 'DEU', 1701, 1436861056, 0.8796756004, -0.1388984361, 8.484012948016771e-07, 0.6431363764158987, 0.6431372248171935]\n",
      "['2009', 'DEU', 1701, 1436861056, 0.8796756004, -0.1388984361, 1.0605016185020964e-07, 0.4698970004336019, 0.46989710648376376]\n",
      "['2010', 'DEU', 1701, 1436861056, 0.8796756004, -0.1388984361, 5.302508092510482e-07, 0.6, 0.6000005302508092]\n",
      "['2011', 'DEU', 1701, 1436861056, 0.8796756004, -0.1388984361, 4.2420064740083856e-07, 0, 4.2420064740083856e-07]\n",
      "['2012', 'DEU', 1701, 1436861056, 0.8796756004, -0.1388984361, 2.1210032370041928e-07, 0, 2.1210032370041928e-07]\n",
      "['2013', 'DEU', 1701, 1436861056, 0.8796756004, -0.1388984361, 7.423511329514675e-07, 0.6681241237375588, 0.6681248660886917]\n",
      "['2014', 'DEU', 1701, 1436861056, 0.8796756004, -0.1388984361, 2.1210032370041928e-07, 0.5602059991327962, 0.56020621123312]\n",
      "['2000', 'NGA', 1701, 8107850, 1.281781108, 18024.01007, 8.037768929972084e-07, 0, 8.037768929972084e-07]\n",
      "['2001', 'NGA', 1701, 8107850, 1.281781108, 18024.01007, 0.0, 0, 0.0]\n",
      "['2002', 'NGA', 1701, 8107850, 1.281781108, 18024.01007, 0.0, 0, 0.0]\n",
      "['2003', 'NGA', 1701, 8107850, 1.281781108, 18024.01007, 6.768647519976491e-07, 0.34099331233312946, 0.3409939891978815]\n",
      "['2007', 'NGA', 1701, 8107850, 1.281781108, 18024.01007, 7.191687989975022e-07, 0, 7.191687989975022e-07]\n",
      "['2009', 'NGA', 1701, 8107850, 1.281781108, 18024.01007, 0.0, 0, 0.0]\n",
      "['2010', 'NGA', 1701, 8107850, 1.281781108, 18024.01007, 1.692161879994123e-06, 0.44771212547196626, 0.44771381763384627]\n",
      "['2011', 'NGA', 1701, 8107850, 1.281781108, 18024.01007, 6.091782767978843e-06, 0.36532125137753435, 0.36532734316030235]\n",
      "['2012', 'NGA', 1701, 8107850, 1.281781108, 18024.01007, 1.5356369060946666e-05, 0.5698970004336019, 0.5699123568026628]\n",
      "['2013', 'NGA', 1701, 8107850, 1.281781108, 18024.01007, 8.037768929972084e-07, 0, 8.037768929972084e-07]\n",
      "['2016', 'NGA', 1701, 8107850, 1.281781108, 18024.01007, 7.614728459973554e-07, 0, 7.614728459973554e-07]\n",
      "['1993', 'NLD', 1701, 524966624, 1.46154306, 0.3351251491, 6.576610979776591e-07, 0.4724275869600789, 0.4724282446211769]\n",
      "['1995', 'NLD', 1701, 524966624, 1.46154306, 0.3351251491, 6.576610979776591e-07, 0.6071882007306125, 0.6071888583917106]\n",
      "['1998', 'NLD', 1701, 524966624, 1.46154306, 0.3351251491, 0.0, 0.5724275869600789, 0.5724275869600789]\n",
      "['2002', 'NLD', 1701, 524966624, 1.46154306, 0.3351251491, 2.6306443919106363e-06, 0.5477121254719662, 0.5477147561163581]\n",
      "['2005', 'NLD', 1701, 524966624, 1.46154306, 0.3351251491, 0.0, 0, 0.0]\n",
      "['2007', 'NLD', 1701, 524966624, 1.46154306, 0.3351251491, 4.603627685843614e-06, 0.5740362689494244, 0.5740408725771102]\n",
      "['2010', 'NLD', 1701, 524966624, 1.46154306, 0.3351251491, 0.0, 0.44471580313422193, 0.44471580313422193]\n",
      "['2013', 'NLD', 1701, 524966624, 1.46154306, 0.3351251491, 1.3153221959553181e-06, 0, 1.3153221959553181e-06]\n",
      "['1996', 'CIV', 1701, 27548312, 2.530321585, -0.43879984340000006, 1.2316505295081164e-05, 0, 1.2316505295081164e-05]\n",
      "['2008', 'CIV', 1701, 27548312, 2.530321585, -0.43879984340000006, 2.6392511346602493e-06, 0, 2.6392511346602493e-06]\n",
      "['2010', 'CIV', 1701, 27548312, 2.530321585, -0.43879984340000006, 3.519001512880333e-06, 0, 3.519001512880333e-06]\n",
      "['2014', 'CIV', 1701, 27548312, 2.530321585, -0.43879984340000006, 1.0117129349530957e-05, 0, 1.0117129349530957e-05]\n",
      "['2015', 'CIV', 1701, 27548312, 2.530321585, -0.43879984340000006, 7.038003025760666e-06, 0, 7.038003025760666e-06]\n",
      "['1997', 'POL', 1701, 4138308, 0.02247456013, -0.9919356219, 1.2495214407853078e-05, 0, 1.2495214407853078e-05]\n",
      "['1998', 'POL', 1701, 4138308, 0.02247456013, -0.9919356219, 2.249138593413554e-06, 0, 2.249138593413554e-06]\n",
      "['1999', 'POL', 1701, 4138308, 0.02247456013, -0.9919356219, 7.497128644711847e-07, 0.4, 0.4000007497128645]\n",
      "['2000', 'POL', 1701, 4138308, 0.02247456013, -0.9919356219, 2.099196020519317e-05, 0, 2.099196020519317e-05]\n",
      "['2002', 'POL', 1701, 4138308, 0.02247456013, -0.9919356219, 6.82238706668778e-05, 0.16989700043360187, 0.16996522430426875]\n",
      "['2004', 'POL', 1701, 4138308, 0.02247456013, -0.9919356219, 0.0, 0, 0.0]\n",
      "['2005', 'POL', 1701, 4138308, 0.02247456013, -0.9919356219, 0.0, 0, 0.0]\n",
      "['2006', 'POL', 1701, 4138308, 0.02247456013, -0.9919356219, 4.773171903799876e-05, 0, 4.773171903799876e-05]\n",
      "['2007', 'POL', 1701, 4138308, 0.02247456013, -0.9919356219, 1.4994257289423694e-06, 0.5, 0.5000014994257289]\n",
      "['2008', 'POL', 1701, 4138308, 0.02247456013, -0.9919356219, 4.998085763141231e-07, 0.4698970004336019, 0.4698975002421782]\n",
      "['2009', 'POL', 1701, 4138308, 0.02247456013, -0.9919356219, 2.4990428815706153e-07, 0.5, 0.5000002499042882]\n",
      "['2010', 'POL', 1701, 4138308, 0.02247456013, -0.9919356219, 7.522119073527553e-05, 0, 7.522119073527553e-05]\n",
      "['2011', 'POL', 1701, 4138308, 0.02247456013, -0.9919356219, 6.4975114920836e-06, 0, 6.4975114920836e-06]\n",
      "['2012', 'POL', 1701, 4138308, 0.02247456013, -0.9919356219, 4.4482963291956956e-05, 0.3770852011642144, 0.37712968412750636]\n",
      "['2013', 'POL', 1701, 4138308, 0.02247456013, -0.9919356219, 9.996171526282461e-07, 0, 9.996171526282461e-07]\n",
      "['2015', 'POL', 1701, 4138308, 0.02247456013, -0.9919356219, 2.4990428815706153e-07, 0, 2.4990428815706153e-07]\n",
      "['2016', 'POL', 1701, 4138308, 0.02247456013, -0.9919356219, 5.247990051298293e-06, 0, 5.247990051298293e-06]\n"
     ]
    }
   ],
   "source": [
    "printList(x)"
   ]
  },
  {
   "cell_type": "code",
   "execution_count": null,
   "metadata": {},
   "outputs": [],
   "source": []
  }
 ],
 "metadata": {
  "kernelspec": {
   "display_name": "Python 3",
   "language": "python",
   "name": "python3"
  },
  "language_info": {
   "codemirror_mode": {
    "name": "ipython",
    "version": 3
   },
   "file_extension": ".py",
   "mimetype": "text/x-python",
   "name": "python",
   "nbconvert_exporter": "python",
   "pygments_lexer": "ipython3",
   "version": "3.6.4"
  }
 },
 "nbformat": 4,
 "nbformat_minor": 2
}
