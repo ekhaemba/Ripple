{
 "cells": [
  {
   "cell_type": "code",
   "execution_count": 22,
   "metadata": {},
   "outputs": [],
   "source": [
    "import pandas as pd\n",
    "import numpy as np\n",
    "import math as m"
   ]
  },
  {
   "cell_type": "code",
   "execution_count": 23,
   "metadata": {},
   "outputs": [],
   "source": [
    "countriesSoFar = ['FRA','DEU','NGA','NLD','CIV','POL']"
   ]
  },
  {
   "cell_type": "code",
   "execution_count": 24,
   "metadata": {},
   "outputs": [],
   "source": [
    "def printList(pList):\n",
    "    \"\"\"Tired of having to type this\"\"\"\n",
    "    for l in pList:\n",
    "        print(l)"
   ]
  },
  {
   "cell_type": "code",
   "execution_count": 25,
   "metadata": {},
   "outputs": [],
   "source": [
    "def printListList(pList):\n",
    "    \"\"\"Tired of having to type this\"\"\"\n",
    "    for l in pList:\n",
    "        for ll in l:\n",
    "            print(ll)"
   ]
  },
  {
   "cell_type": "code",
   "execution_count": 26,
   "metadata": {},
   "outputs": [],
   "source": [
    "def pullItEm(file):\n",
    "    dataset = pd.read_csv(file)\n",
    "    dSet = []\n",
    "    tempList = []\n",
    "    numRows = len(dataset)\n",
    "    for n in range(numRows):\n",
    "        for line in dataset.iloc[n,:5]:\n",
    "            tempList.append(line)\n",
    "        dSet.append(tempList)\n",
    "        tempList = []\n",
    "    return dSet"
   ]
  },
  {
   "cell_type": "code",
   "execution_count": 27,
   "metadata": {},
   "outputs": [],
   "source": [
    "def pullItCom(file):\n",
    "    \"\"\"pulls in the Comdata file\"\"\"\n",
    "    dataset = pd.read_csv(file)\n",
    "    dSet = []\n",
    "    tempList = []\n",
    "    numRows = len(dataset)\n",
    "    for n in range(numRows):\n",
    "        for line in dataset.iloc[n,:7]:\n",
    "            tempList.append(line)\n",
    "        dSet.append(tempList)\n",
    "        tempList = []\n",
    "    return dSet"
   ]
  },
  {
   "cell_type": "code",
   "execution_count": 28,
   "metadata": {},
   "outputs": [],
   "source": [
    "def fixYear(dSet):\n",
    "    \"\"\"Fixes the year on the emdat records\"\"\"\n",
    "    postSet = []\n",
    "    tmpEntity = []\n",
    "    for d in dSet:\n",
    "        tmpEntity.append(d[0][-4:])\n",
    "        tmpEntity.append(d[1])\n",
    "        tmpEntity.append(d[2])\n",
    "        tmpEntity.append(d[3])\n",
    "        tmpEntity.append(d[4])\n",
    "        postSet.append(tmpEntity)\n",
    "        tmpEntity = []\n",
    "    return postSet"
   ]
  },
  {
   "cell_type": "code",
   "execution_count": 29,
   "metadata": {},
   "outputs": [],
   "source": [
    "def groupByYear(dSet):\n",
    "    \"\"\"combines disasters of all type to provide single year record for each country\"\"\"\n",
    "    tmpCountry = dSet[0][1]\n",
    "    tmpDeathSum = 0\n",
    "    tmpDollarSum = 0\n",
    "    tmpYear = dSet[0][0]\n",
    "    tmpEntry =[]\n",
    "    dSetR1 =[]\n",
    "\n",
    "    for i in range(len(dSet)):\n",
    "\n",
    "        if (dSet[i][0] == tmpYear) and (dSet[i][1] == tmpCountry):\n",
    "            tmpDeathSum += dSet[i][3]\n",
    "            tmpDollarSum += dSet[i][4]\n",
    "        elif (dSet[i][0] !=tmpYear):\n",
    "            tmpEntry.append(tmpYear)\n",
    "            tmpEntry.append(tmpCountry)\n",
    "            tmpEntry.append(tmpDeathSum)\n",
    "            tmpEntry.append(tmpDollarSum)\n",
    "            dSetR1.append(tmpEntry)\n",
    "            tmpEntry = []\n",
    "            tmpCountry = dSet[i][1]\n",
    "            tmpDeathSum = dSet[i][3]\n",
    "            tmpDollarSum = dSet[i][4]\n",
    "            tmpYear = dSet[i][0]\n",
    "                \n",
    "    return(dSetR1)\n"
   ]
  },
  {
   "cell_type": "code",
   "execution_count": 30,
   "metadata": {},
   "outputs": [],
   "source": [
    "def calcImpactScore(dSet):\n",
    "    tmpEntry =[]\n",
    "    tmpCountry = \"\"\n",
    "    tmpYear = 0\n",
    "    tmpDeath = 0\n",
    "    AdjDollar = 0\n",
    "    calcImpact = 0\n",
    "    dSetR2 = []\n",
    "    for d in dSet:\n",
    "        tmpYear = d[0]\n",
    "        tmpCountry = d[1]\n",
    "        tmpDeath = d[2]\n",
    "        if(d[3]!=0):\n",
    "            AdjDollars = (np.log10(d[3]))/10\n",
    "        else:\n",
    "            AdjDollars = d[3]\n",
    "        calcImpact = AdjDollars +tmpDeath\n",
    "        tmpEntry.append(tmpYear)\n",
    "        tmpEntry.append(tmpCountry)\n",
    "        tmpEntry.append(tmpDeath)\n",
    "        tmpEntry.append(AdjDollars)\n",
    "        tmpEntry.append(calcImpact)\n",
    "        dSetR2.append(tmpEntry)\n",
    "        tmpEntry = []\n",
    "    return dSetR2"
   ]
  },
  {
   "cell_type": "code",
   "execution_count": 31,
   "metadata": {},
   "outputs": [],
   "source": [
    "def getComList(country,commodity):\n",
    "    \"\"\"Enter parameter in format 'ISO' \"\"\"\n",
    "    country = 'datasets/'+country+'-'+commodity+'.csv'\n",
    "    return pullItCom(country)"
   ]
  },
  {
   "cell_type": "code",
   "execution_count": 32,
   "metadata": {},
   "outputs": [],
   "source": [
    "def removeFirstComEntry(comList):\n",
    "    \"\"\"gets rid of countries whose adjusted trends are missing from comTrade\"\"\"\n",
    "    editedList = []\n",
    "    tmpEntry = []\n",
    "    \n",
    "    for c in comList:\n",
    "        for l in c:\n",
    "            if (str(l[4])==str(l[5]) and str(l[5])=='nan'):\n",
    "                #print(\"edit out\")\n",
    "                pass\n",
    "            else:\n",
    "                tmpEntry.append(l)\n",
    "        editedList.append(tmpEntry)\n",
    "        tmpEntry = []\n",
    "        \n",
    "    return editedList"
   ]
  },
  {
   "cell_type": "code",
   "execution_count": 33,
   "metadata": {},
   "outputs": [],
   "source": [
    "def getComLists(countries,commodity):\n",
    "    \"\"\"be sure to use parameter in format ['ISO1','ISO2,...,'ISOn']\"\"\"\n",
    "    l = len(countries)\n",
    "    comLists = []\n",
    "    for c in range(l):\n",
    "        country = countries[c]\n",
    "        comLists.append(getComList(country,commodity))\n",
    "    return removeFirstComEntry(comLists)"
   ]
  },
  {
   "cell_type": "code",
   "execution_count": 34,
   "metadata": {},
   "outputs": [],
   "source": [
    "def getDeathRate():\n",
    "    file = open('datasets/deathrate.txt','r')\n",
    "    rawLines = []\n",
    "    tmpList = []\n",
    "    deathList = []\n",
    "    tmpEntry = []\n",
    "    tmpString = \"\"\n",
    "    for line in file:\n",
    "        rawLines.append(line.strip())\n",
    "    for l in rawLines:\n",
    "        if (l[:3] in countriesSoFar):\n",
    "            for char in range(len(l)):\n",
    "                if l[char] ==\":\":\n",
    "                    tmpEntry.append(tmpString)\n",
    "                    tmpString = \"\"\n",
    "                if l[char] == \"/\":\n",
    "                    tmpEntry.append(tmpString.lstrip(':'))          \n",
    "                    tmpString = \"\"\n",
    "                if char == len(l)-1:\n",
    "                    tmpString += l[char]\n",
    "                    tmpEntry.append(tmpString.lstrip('/'))               \n",
    "                    tmpString = \"\" \n",
    "                else:\n",
    "                    tmpString += l[char]\n",
    "            tmpList.append(tmpEntry)\n",
    "            tmpEntry = []\n",
    "\n",
    "    return tmpList"
   ]
  },
  {
   "cell_type": "code",
   "execution_count": 35,
   "metadata": {},
   "outputs": [],
   "source": [
    "def calcDeathRate():\n",
    "    numDeadList = []\n",
    "    tmpEntry = []\n",
    "    deathList = getDeathRate()\n",
    "    for d in deathList:\n",
    "        pop = int(d[1])\n",
    "        rate = float(d[2])\n",
    "        tmpEntry.append(d[0])\n",
    "        tmpEntry.append(((pop/1000)*rate)*10)\n",
    "        numDeadList.append(tmpEntry)\n",
    "        tmpEntry = []\n",
    "    return numDeadList"
   ]
  },
  {
   "cell_type": "code",
   "execution_count": 36,
   "metadata": {},
   "outputs": [],
   "source": [
    "def applyDeathRate(emDat,deathList):\n",
    "    tmpList = []\n",
    "    tmpEntry = []\n",
    "    dr = 1\n",
    "    for n in emDat:\n",
    "        for d in deathList:\n",
    "            if (d[0] == n[1]):\n",
    "                dr = d[1]\n",
    "        tmpEntry.append(n[0])\n",
    "        tmpEntry.append(n[1])\n",
    "        tmpEntry.append(n[2]/dr)\n",
    "        tmpEntry.append(n[3])\n",
    "        \n",
    "        tmpList.append(tmpEntry)\n",
    "        tmpEntry = []\n",
    "    return tmpList"
   ]
  },
  {
   "cell_type": "code",
   "execution_count": 37,
   "metadata": {},
   "outputs": [],
   "source": [
    "def processEmdat():\n",
    "    emDat = pullItEm('datasets/emdata.csv')\n",
    "    emDat = fixYear(emDat)\n",
    "    emDat = groupByYear(emDat)\n",
    "    deathRate = calcDeathRate()\n",
    "    emDat = applyDeathRate(emDat,deathRate)\n",
    "    emDat = calcImpactScore(emDat)\n",
    "    return emDat"
   ]
  },
  {
   "cell_type": "code",
   "execution_count": 38,
   "metadata": {},
   "outputs": [],
   "source": [
    "def combineComEm(comList,emDat):\n",
    "    titleString = ['YEAR','ISO','COMMODITY', 'TREND', 'ADJUSTED TREND', 'ADJUSTED DEATH', 'ADJUSTED $ LOSS', 'CIS' ]\n",
    "    tmpEntry = []\n",
    "    tmpList = []\n",
    "    tmpList.append(titleString)\n",
    "    for country in comList:\n",
    "        comName = country[0][1]\n",
    "        comComm = country[0][2]\n",
    "\n",
    "        for comLine in country:\n",
    "            comYear = str(comLine[0])\n",
    "            comExpo = comLine[3]\n",
    "            comTrnd = comLine[4]\n",
    "            comAdTd = comLine[5]\n",
    "            for e in emDat:\n",
    "                emYear = e[0]\n",
    "                emName = e[1]\n",
    "                emDeath = e[2]\n",
    "                emDollar = e[3]\n",
    "                emImp = e[4]\n",
    "                if (e[0] == comYear and comName == emName):\n",
    "                    #print('match')\n",
    "                    tmpEntry.append(comYear)\n",
    "                    tmpEntry.append(comName)\n",
    "                    tmpEntry.append(comComm)\n",
    "                    tmpEntry.append(comExpo)\n",
    "                    tmpEntry.append(comTrnd)\n",
    "                    tmpEntry.append(comAdTd)\n",
    "                    tmpEntry.append(emDeath)\n",
    "                    tmpEntry.append(emDollar)\n",
    "                    tmpEntry.append(emImp)\n",
    "                    tmpList.append(tmpEntry)\n",
    "                    tmpEntry = []\n",
    "\n",
    "    return tmpList"
   ]
  },
  {
   "cell_type": "code",
   "execution_count": 39,
   "metadata": {},
   "outputs": [],
   "source": [
    "def doTheDamnThingHR(countries,commodity):\n",
    "    comList = getComLists(countries,commodity)\n",
    "    emDat = processEmdat()\n",
    "    result = combineComEm(comList,emDat)\n",
    "    filename = 'datasets/humanReadable/'+'HR-'+commodity+'.csv'\n",
    "    writeThisBitchOut(result,filename)\n",
    "    return result"
   ]
  },
  {
   "cell_type": "code",
   "execution_count": 40,
   "metadata": {},
   "outputs": [],
   "source": [
    "def doTheDamnThingMDL(countries,commodity):\n",
    "    record = doTheDamnThingHR(countries,commodity)\n",
    "    numCountries = (-1)\n",
    "    currCountry = \"\"\n",
    "    tmpList = []\n",
    "    tmpHeaders = []\n",
    "    tmpEntry = []\n",
    "    for line in record:\n",
    "         if (line[1] != currCountry):\n",
    "                numCountries += 1\n",
    "                currCountry = line[1]\n",
    "                if (currCountry != 'ISO'):\n",
    "                    tmpHeaders.append(currCountry)\n",
    "    tmpHeaders.append('Impact Score')\n",
    "    tmpHeaders.append('Adjusted Trend')\n",
    "    tmpList.append(tmpHeaders)\n",
    "    for line in record:\n",
    "        if (record.index(line) != 0):\n",
    "            for h in tmpHeaders[:6]:\n",
    "                if (line[1] == h):\n",
    "                    tmpEntry.append(1)\n",
    "                else:\n",
    "                    tmpEntry.append(0)\n",
    "            tmpEntry.append(line[7])\n",
    "            tmpEntry.append(line[4])\n",
    "            tmpList.append(tmpEntry)\n",
    "            tmpEntry = []\n",
    "    filename = 'datasets/modelIn/'+'model-'+commodity+'.csv'\n",
    "    writeThisBitchOut(tmpList,filename)\n",
    "    return tmpList"
   ]
  },
  {
   "cell_type": "code",
   "execution_count": 41,
   "metadata": {},
   "outputs": [],
   "source": [
    "def writeThisBitchOut(dSet,filename):\n",
    "    file = open(filename,'w')\n",
    "    tmpString = \"\"\n",
    "    for line in dSet:\n",
    "        for l in line:\n",
    "            tmpString += str(l)\n",
    "            tmpString += ','\n",
    "        tmpString = tmpString[:-1]\n",
    "        file.write(tmpString+'\\n')\n",
    "        tmpString = \"\"\n",
    "    file.close()\n",
    "    return True\n"
   ]
  },
  {
   "cell_type": "code",
   "execution_count": 49,
   "metadata": {},
   "outputs": [],
   "source": [
    "def inputFunc(country, intensity):\n",
    "    headers = []\n",
    "    entry = []\n",
    "    for c in countriesSoFar:\n",
    "        headers.append(c)\n",
    "    headers.append('intensity')\n",
    "    for h in headers[:-1]:\n",
    "        if country == h:\n",
    "            entry.append(1)\n",
    "        else:\n",
    "            entry.append(0)\n",
    "    entry.append(intensity)\n",
    "    result = []\n",
    "    result.append(entry)\n",
    "    result = np.asarray(result)\n",
    "    return result"
   ]
  }
 ],
 "metadata": {
  "kernelspec": {
   "display_name": "Python 3",
   "language": "python",
   "name": "python3"
  },
  "language_info": {
   "codemirror_mode": {
    "name": "ipython",
    "version": 3
   },
   "file_extension": ".py",
   "mimetype": "text/x-python",
   "name": "python",
   "nbconvert_exporter": "python",
   "pygments_lexer": "ipython3",
   "version": "3.6.4"
  }
 },
 "nbformat": 4,
 "nbformat_minor": 2
}
