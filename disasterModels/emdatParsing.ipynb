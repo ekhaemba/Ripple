{
 "cells": [
  {
   "cell_type": "code",
   "execution_count": 362,
   "metadata": {},
   "outputs": [],
   "source": [
    "import pandas as pd\n",
    "import numpy as np"
   ]
  },
  {
   "cell_type": "code",
   "execution_count": 363,
   "metadata": {},
   "outputs": [],
   "source": [
    "countriesSoFar = ['FRA','DEU','BEL','NGA','NLD','CIV','POL']"
   ]
  },
  {
   "cell_type": "code",
   "execution_count": 364,
   "metadata": {},
   "outputs": [],
   "source": [
    "def printList(pList):\n",
    "    \"\"\"Tired of having to type this\"\"\"\n",
    "    for l in pList:\n",
    "        print(l)"
   ]
  },
  {
   "cell_type": "code",
   "execution_count": 365,
   "metadata": {},
   "outputs": [],
   "source": [
    "def printListList(pList):\n",
    "    \"\"\"Tired of having to type this\"\"\"\n",
    "    for l in pList:\n",
    "        for ll in l:\n",
    "            print(ll)"
   ]
  },
  {
   "cell_type": "code",
   "execution_count": 173,
   "metadata": {},
   "outputs": [],
   "source": [
    "def fixYear(dSet):\n",
    "    \"\"\"Fixes the year on the emdat records\"\"\"\n",
    "    postSet = []\n",
    "    tmpEntity = []\n",
    "    for d in dSet:\n",
    "        tmpEntity.append(d[0][-4:])\n",
    "        tmpEntity.append(d[1])\n",
    "        tmpEntity.append(d[2])\n",
    "        tmpEntity.append(d[3])\n",
    "        tmpEntity.append(d[4])\n",
    "        postSet.append(tmpEntity)\n",
    "        tmpEntity = []\n",
    "    return postSet"
   ]
  },
  {
   "cell_type": "code",
   "execution_count": 366,
   "metadata": {},
   "outputs": [],
   "source": [
    "def pullItCom(file):\n",
    "    \"\"\"pulls in the Comdata file\"\"\"\n",
    "    dataset = pd.read_csv(file)\n",
    "    dSet = []\n",
    "    tempList = []\n",
    "    numRows = len(dataset)\n",
    "    for n in range(numRows):\n",
    "        for line in dataset.iloc[n,:7]:\n",
    "            tempList.append(line)\n",
    "        dSet.append(tempList)\n",
    "        tempList = []\n",
    "    return dSet"
   ]
  },
  {
   "cell_type": "code",
   "execution_count": 376,
   "metadata": {},
   "outputs": [],
   "source": [
    "def pullItEm(file):\n",
    "    dataset = pd.read_csv(file)\n",
    "    dSet = []\n",
    "    tempList = []\n",
    "    numRows = len(dataset)\n",
    "    for n in range(numRows):\n",
    "        for line in dataset.iloc[n,:5]:\n",
    "            tempList.append(line)\n",
    "        dSet.append(tempList)\n",
    "        tempList = []\n",
    "    return dSet"
   ]
  },
  {
   "cell_type": "code",
   "execution_count": 420,
   "metadata": {},
   "outputs": [],
   "source": [
    "def groupByYear(dSet):\n",
    "    \"\"\"combines disasters of all type to provide single year record for each country\"\"\"\n",
    "    tmpCountry = dSet[0][1]\n",
    "    tmpDeathSum = 0\n",
    "    tmpDollarSum = 0\n",
    "    tmpYear = dSet[0][0]\n",
    "    tmpEntry =[]\n",
    "    dSetR1 =[]\n",
    "\n",
    "    for i in range(len(dSet)):\n",
    "\n",
    "        if (dSet[i][0] == tmpYear) and (dSet[i][1] == tmpCountry):\n",
    "            tmpDeathSum += dSet[i][3]\n",
    "            tmpDollarSum += dSet[i][4]\n",
    "        elif (dSet[i][0] !=tmpYear):\n",
    "            tmpEntry.append(tmpYear)\n",
    "            tmpEntry.append(tmpCountry)\n",
    "            tmpEntry.append(tmpDeathSum)\n",
    "            tmpEntry.append(tmpDollarSum)\n",
    "            dSetR1.append(tmpEntry)\n",
    "            tmpEntry = []\n",
    "            tmpCountry = dSet[i][1]\n",
    "            tmpDeathSum = dSet[i][3]\n",
    "            tmpDollarSum = dSet[i][4]\n",
    "            tmpYear = dSet[i][0]\n",
    "                \n",
    "    return(dSetR1)\n"
   ]
  },
  {
   "cell_type": "code",
   "execution_count": 378,
   "metadata": {},
   "outputs": [],
   "source": [
    "def calcImpactScore(deathRate,pop,dSet):\n",
    "    deathCompare = (pop/1000)*deathRate\n",
    "    tmpEntry =[]\n",
    "    tmpYear = 0\n",
    "    AdjDeath = 0\n",
    "    AdjDollar = 0\n",
    "    dSetR2 = []\n",
    "    for d in dSet:\n",
    "        tmpYear = d[0]\n",
    "        AdjDeath = (d[1]/deathCompare)*10\n",
    "        if(d[2]!=0):\n",
    "            AdjDollars = (np.log10(d[2]))/10\n",
    "        else:\n",
    "            AdjDollars = d[2]\n",
    "        tmpEntry.append(tmpYear)\n",
    "        tmpEntry.append(AdjDeath)\n",
    "        tmpEntry.append(AdjDollars)\n",
    "        dSetR2.append(tmpEntry)\n",
    "        tmpEntry = []\n",
    "    return dSetR2"
   ]
  },
  {
   "cell_type": "code",
   "execution_count": 379,
   "metadata": {},
   "outputs": [],
   "source": [
    "def getComList(country,commodity):\n",
    "    \"\"\"Enter parameter in format 'ISO' \"\"\"\n",
    "    country = 'datasets/'+country+'-'+commodity+'.csv'\n",
    "    return pullItCom(country)"
   ]
  },
  {
   "cell_type": "code",
   "execution_count": 350,
   "metadata": {},
   "outputs": [],
   "source": [
    "def getComLists(countries,commodity):\n",
    "    \"\"\"be sure to use parameter in format ['ISO1','ISO2,...,'ISOn']\"\"\"\n",
    "    l = len(countries)\n",
    "    comLists = []\n",
    "    for c in range(l):\n",
    "        country = countries[c]\n",
    "        comLists.append(getComList(country,commodity))\n",
    "    return comLists"
   ]
  },
  {
   "cell_type": "code",
   "execution_count": 631,
   "metadata": {},
   "outputs": [],
   "source": [
    "def removeFirstComEntry(comList):\n",
    "    \"\"\"gets rid of countries whose adjusted trends are missing from comTrade\"\"\"\n",
    "    editedList = []\n",
    "    tmpEntry = []\n",
    "    \n",
    "    for c in comList:\n",
    "        for l in c:\n",
    "            if (str(l[4])==str(l[5]) and str(l[5])=='nan'):\n",
    "                #print(\"edit out\")\n",
    "                pass\n",
    "            else:\n",
    "                tmpEntry.append(l)\n",
    "        editedList.append(tmpEntry)\n",
    "        tmpEntry = []\n",
    "        \n",
    "    return editedList"
   ]
  },
  {
   "cell_type": "code",
   "execution_count": 632,
   "metadata": {},
   "outputs": [],
   "source": [
    "def combineComEm(comList):\n",
    "    return"
   ]
  },
  {
   "cell_type": "code",
   "execution_count": 642,
   "metadata": {},
   "outputs": [],
   "source": [
    "def processEmdat():\n",
    "    emDat = pullItEm('datasets/emdata.csv')\n",
    "    emDat = fixYear(emDat)\n",
    "    emDat = groupByYear(emDat)\n",
    "    #emDat = calcImpactScore(emDat)\n",
    "    return emDat"
   ]
  },
  {
   "cell_type": "code",
   "execution_count": 634,
   "metadata": {},
   "outputs": [],
   "source": [
    "def getDeathRate():\n",
    "    file = open('datasets/deathrate.txt','r')\n",
    "    rawLines = []\n",
    "    tmpList = []\n",
    "    deathList = []\n",
    "    tmpEntry = []\n",
    "    tmpString = \"\"\n",
    "    for line in file:\n",
    "        rawLines.append(line.strip())\n",
    "    for l in rawLines:\n",
    "        if (l[:3] in countriesSoFar):\n",
    "            for char in range(len(l)):\n",
    "                if l[char] ==\":\":\n",
    "                    tmpEntry.append(tmpString)\n",
    "                    tmpString = \"\"\n",
    "                if l[char] == \"/\":\n",
    "                    tmpEntry.append(tmpString.lstrip(':'))          \n",
    "                    tmpString = \"\"\n",
    "                if char == len(l)-1:\n",
    "                    tmpString += l[char]\n",
    "                    tmpEntry.append(tmpString.lstrip('/'))               \n",
    "                    tmpString = \"\" \n",
    "                else:\n",
    "                    tmpString += l[char]\n",
    "            tmpList.append(tmpEntry)\n",
    "            tmpEntry = []\n",
    "\n",
    "    return tmpList"
   ]
  },
  {
   "cell_type": "code",
   "execution_count": 635,
   "metadata": {},
   "outputs": [],
   "source": [
    "def applyDeathRate():\n",
    "    numDeadList = []\n",
    "    tmpEntry = []\n",
    "    deathList = getDeathRate()\n",
    "    for d in deathList:\n",
    "        pop = int(d[1])\n",
    "        rate = float(d[2])\n",
    "        tmpEntry.append(d[0])\n",
    "        tmpEntry.append((pop/1000)*rate)\n",
    "        numDeadList.append(tmpEntry)\n",
    "        tmpEntry = []\n",
    "    return numDeadList"
   ]
  },
  {
   "cell_type": "code",
   "execution_count": 636,
   "metadata": {},
   "outputs": [],
   "source": [
    "comList = getComLists(countriesSoFar,'1701')"
   ]
  },
  {
   "cell_type": "code",
   "execution_count": 637,
   "metadata": {},
   "outputs": [],
   "source": [
    "comList = removeFirstComEntry(comList)"
   ]
  },
  {
   "cell_type": "code",
   "execution_count": 643,
   "metadata": {},
   "outputs": [],
   "source": [
    "dr = applyDeathRate()"
   ]
  },
  {
   "cell_type": "code",
   "execution_count": 651,
   "metadata": {},
   "outputs": [],
   "source": [
    "emDat = processEmdat()"
   ]
  },
  {
   "cell_type": "markdown",
   "metadata": {},
   "source": [
    "## Next up: \n",
    "#### 1) need to incorperate applyDeathRate and calcImpactScore.\n",
    "#### 2) integrate comList and emDat\n",
    "#### 3) generate HR file and model input file\n"
   ]
  },
  {
   "cell_type": "code",
   "execution_count": null,
   "metadata": {},
   "outputs": [],
   "source": []
  }
 ],
 "metadata": {
  "kernelspec": {
   "display_name": "Python 3",
   "language": "python",
   "name": "python3"
  }
 },
 "nbformat": 4,
 "nbformat_minor": 2
}
