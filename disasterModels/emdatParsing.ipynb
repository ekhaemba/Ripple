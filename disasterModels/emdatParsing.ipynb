{
 "cells": [
  {
   "cell_type": "code",
   "execution_count": 63,
   "metadata": {},
   "outputs": [],
   "source": [
    "import pandas as pd\n",
    "import numpy as np"
   ]
  },
  {
   "cell_type": "code",
   "execution_count": 64,
   "metadata": {},
   "outputs": [],
   "source": [
    "columns = \"year, iso, type, death, dollars\""
   ]
  },
  {
   "cell_type": "code",
   "execution_count": 16,
   "metadata": {},
   "outputs": [],
   "source": [
    "dataset = pd.read_csv('disasterPre.csv')"
   ]
  },
  {
   "cell_type": "code",
   "execution_count": 61,
   "metadata": {},
   "outputs": [],
   "source": [
    "dataset2 = pd.read_csv('datasets/FRA-1701.csv')"
   ]
  },
  {
   "cell_type": "code",
   "execution_count": 53,
   "metadata": {},
   "outputs": [],
   "source": [
    "def pullItEm(file):\n",
    "    dataset = pd.read_csv(file)\n",
    "    dSet = []\n",
    "    tempList = []\n",
    "    for n in range(67):\n",
    "        for line in dataset.iloc[n,:4]:\n",
    "            tempList.append(line)\n",
    "        dSet.append(tempList)\n",
    "        tempList = []\n",
    "    return dSet"
   ]
  },
  {
   "cell_type": "code",
   "execution_count": 54,
   "metadata": {},
   "outputs": [],
   "source": [
    "def groupByYear(dSet):\n",
    "    tmpDeathSum = 0\n",
    "    tmpDollarSum = 0\n",
    "    tmpYear = dSet[0][0]\n",
    "    tmpEntry =[]\n",
    "    dSetR1 =[]\n",
    "    for i in range(len(dSet)):\n",
    "\n",
    "        if (dSet[i][0] == tmpYear):\n",
    "            tmpDeathSum += dSet[i][2]\n",
    "            tmpDollarSum += dSet[i][3]\n",
    "        elif (dSet[i][0] !=tmpYear):\n",
    "            tmpEntry.append(tmpYear)\n",
    "            tmpEntry.append(tmpDeathSum)\n",
    "            tmpEntry.append(tmpDollarSum)\n",
    "            dSetR1.append(tmpEntry)\n",
    "            tmpEntry = []\n",
    "            tmpDeathSum = dSet[i][2]\n",
    "            tmpDollarSum = dSet[i][3]\n",
    "            tmpYear = dSet[i][0]\n",
    "    return(dSetR1)\n"
   ]
  },
  {
   "cell_type": "code",
   "execution_count": 55,
   "metadata": {},
   "outputs": [],
   "source": [
    "def calcImpactScore(deathRate,pop,dSet):\n",
    "    deathCompare = (pop/1000)*deathRate\n",
    "    tmpEntry =[]\n",
    "    tmpYear = 0\n",
    "    AdjDeath = 0\n",
    "    AdjDollar = 0\n",
    "    dSetR2 = []\n",
    "    for d in dSet:\n",
    "        tmpYear = d[0]\n",
    "        AdjDeath = (d[1]/deathCompare)*10\n",
    "        if(d[2]!=0):\n",
    "            AdjDollars = (np.log10(d[2]))/10\n",
    "        else:\n",
    "            AdjDollars = d[2]\n",
    "        tmpEntry.append(tmpYear)\n",
    "        tmpEntry.append(AdjDeath)\n",
    "        tmpEntry.append(AdjDollars)\n",
    "        dSetR2.append(tmpEntry)\n",
    "        tmpEntry = []\n",
    "    return dSetR2"
   ]
  },
  {
   "cell_type": "code",
   "execution_count": 56,
   "metadata": {},
   "outputs": [],
   "source": [
    "stepOne = pullIt('disasterPre.csv')"
   ]
  },
  {
   "cell_type": "code",
   "execution_count": 57,
   "metadata": {},
   "outputs": [],
   "source": [
    "stepTwo = groupByYear(stepOne)"
   ]
  },
  {
   "cell_type": "code",
   "execution_count": 58,
   "metadata": {},
   "outputs": [],
   "source": [
    "stepThree = calcImpactScore(11.7,80594017,stepTwo)"
   ]
  },
  {
   "cell_type": "code",
   "execution_count": 59,
   "metadata": {},
   "outputs": [
    {
     "name": "stdout",
     "output_type": "stream",
     "text": [
      "[1991, 5.302508092510482e-05, 0.47481880270062005]\n",
      "[1992, 1.0605016185020964e-05, 0.49036325160842376]\n",
      "[1993, 0.0001166551780352306, 0.6004321373782642]\n",
      "[1994, 0.00013786521040527253, 0.6157970243604713]\n",
      "[1995, 5.302508092510482e-05, 0.5723947976431644]\n",
      "[1996, 0.0, 0.2698970004336019]\n",
      "[1997, 0.0003181504855506289, 0.5556302500767287]\n",
      "[1998, 3.181504855506289e-05, 0.5176091259055682]\n",
      "[1999, 0.0003181504855506289, 0.6339695849505891]\n",
      "[2001, 6.363009711012578e-05, 0.5477121254719662]\n",
      "[2002, 0.0005196457930660272, 0.7135132651376775]\n",
      "[2003, 0.09936900165364643, 0.6290034611362518]\n",
      "[2004, 2.1210032370041928e-05, 0.5152288344383057]\n",
      "[2005, 4.2420064740083856e-05, 0.5897627091290442]\n",
      "[2006, 0.00024391537225548218, 0]\n",
      "[2007, 0.0002014953075153983, 0.6740362689494244]\n",
      "[2008, 5.302508092510482e-05, 0.6079181246047625]\n",
      "[2009, 1.0605016185020964e-05, 0]\n",
      "[2008, 3.181504855506289e-05, 0.6176091259055682]\n",
      "[2009, 0.00015907524277531445, 0.4845098040014257]\n",
      "[2010, 8.484012948016771e-05, 0.6]\n",
      "[2011, 4.2420064740083856e-05, 0]\n",
      "[2012, 6.363009711012578e-05, 0]\n",
      "[2013, 0.0001166551780352306, 0.7247973266361807]\n",
      "[2014, 8.484012948016771e-05, 0.5602059991327962]\n",
      "[2016, 7.423511329514674e-05, 0.6301029995663981]\n",
      "[2017, 0.0, 0]\n"
     ]
    }
   ],
   "source": [
    "for l in stepThree:\n",
    "    print(l)"
   ]
  },
  {
   "cell_type": "code",
   "execution_count": 79,
   "metadata": {},
   "outputs": [
    {
     "data": {
      "text/plain": [
       "0.5477121254719662"
      ]
     },
     "execution_count": 79,
     "metadata": {},
     "output_type": "execute_result"
    }
   ],
   "source": [
    "np.log10(300000)/10"
   ]
  },
  {
   "cell_type": "code",
   "execution_count": null,
   "metadata": {},
   "outputs": [],
   "source": []
  }
 ],
 "metadata": {
  "kernelspec": {
   "display_name": "Python 3",
   "language": "python",
   "name": "python3"
  }
 },
 "nbformat": 4,
 "nbformat_minor": 2
}
