{
 "cells": [
  {
   "cell_type": "markdown",
   "metadata": {},
   "source": [
    "Data was retrieved from the oec data site: https://atlas.media.mit.edu/en/resources/data/"
   ]
  },
  {
   "cell_type": "code",
   "execution_count": null,
   "metadata": {},
   "outputs": [],
   "source": [
    "import pandas as pd"
   ]
  },
  {
   "cell_type": "markdown",
   "metadata": {},
   "source": [
    "Get the country names and products table"
   ]
  },
  {
   "cell_type": "code",
   "execution_count": null,
   "metadata": {},
   "outputs": [],
   "source": [
    "country_names = pd.read_table('country_names.tsv')\n",
    "products = pd.read_table('products_hs_96.tsv')"
   ]
  },
  {
   "cell_type": "markdown",
   "metadata": {},
   "source": [
    "For example lets try to get some of the tea traffic"
   ]
  },
  {
   "cell_type": "code",
   "execution_count": null,
   "metadata": {},
   "outputs": [],
   "source": [
    "products[products['hs96'] == 902]"
   ]
  },
  {
   "cell_type": "code",
   "execution_count": null,
   "metadata": {},
   "outputs": [],
   "source": [
    "def filter_chunks(iterator_frame, max_chunks=None, chunksize=10000):\n",
    "    result_df = next(iterator_frame)\n",
    "    result_df = result_df[(result_df['hs96'] == 902)]#Get all the tea from the first chunk\n",
    "    cur_chunk = 1\n",
    "    for chunk in iterator_frame:\n",
    "        if max_chunks is not None:\n",
    "            if cur_chunk >= max_chunks:\n",
    "                break\n",
    "        filtered_chunk = chunk[(chunk['hs96'] == 902)]# Tea only plz\n",
    "        result_df = pd.concat([result_df, filtered_chunk])\n",
    "        cur_chunk += 1\n",
    "    return result_df"
   ]
  },
  {
   "cell_type": "code",
   "execution_count": null,
   "metadata": {},
   "outputs": [],
   "source": [
    "route_table = pd.read_table('year_origin_destination_hs96_4.tsv', chunksize=10000)\n",
    "my_df = filter_chunks(route_table, max_chunks=15)\n",
    "my_df"
   ]
  }
 ],
 "metadata": {
  "kernelspec": {
   "display_name": "Python 3",
   "language": "python",
   "name": "python3"
  },
  "language_info": {
   "codemirror_mode": {
    "name": "ipython",
    "version": 3
   },
   "file_extension": ".py",
   "mimetype": "text/x-python",
   "name": "python",
   "nbconvert_exporter": "python",
   "pygments_lexer": "ipython3",
   "version": "3.5.2"
  }
 },
 "nbformat": 4,
 "nbformat_minor": 2
}
